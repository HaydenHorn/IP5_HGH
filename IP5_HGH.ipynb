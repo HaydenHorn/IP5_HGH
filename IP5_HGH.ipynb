{
 "cells": [
  {
   "cell_type": "markdown",
   "id": "8d5eec19",
   "metadata": {},
   "source": [
    "# Hayden Horn IP5 - 3/22/22"
   ]
  },
  {
   "cell_type": "code",
   "execution_count": 3,
   "id": "4d3dd096",
   "metadata": {},
   "outputs": [],
   "source": [
    "import os \n",
    "import numpy as np \n",
    "import pandas as pd\n",
    "import matplotlib.pyplot as plt\n",
    "import seaborn as sns"
   ]
  },
  {
   "cell_type": "markdown",
   "id": "e6ea3184",
   "metadata": {},
   "source": [
    "# 1. Self Awareness Data"
   ]
  },
  {
   "cell_type": "code",
   "execution_count": 4,
   "id": "4efa9479",
   "metadata": {},
   "outputs": [],
   "source": [
    "data1=pd.read_csv('SADS.csv')"
   ]
  },
  {
   "cell_type": "code",
   "execution_count": 5,
   "id": "8097408b",
   "metadata": {},
   "outputs": [
    {
     "name": "stdout",
     "output_type": "stream",
     "text": [
      "<class 'pandas.core.frame.DataFrame'>\n",
      "RangeIndex: 64 entries, 0 to 63\n",
      "Data columns (total 9 columns):\n",
      " #   Column                            Non-Null Count  Dtype  \n",
      "---  ------                            --------------  -----  \n",
      " 0   Date                              64 non-null     object \n",
      " 1   Day                               64 non-null     object \n",
      " 2   Sleep Hour                        64 non-null     int64  \n",
      " 3   Exercise Hour                     64 non-null     int64  \n",
      " 4   Study Hour                        64 non-null     int64  \n",
      " 5   StudyDS Hour                      64 non-null     int64  \n",
      " 6   Work Hour                         64 non-null     int64  \n",
      " 7   End of the day Feeling (0 to 10)  64 non-null     int64  \n",
      " 8   Unnamed: 8                        0 non-null      float64\n",
      "dtypes: float64(1), int64(6), object(2)\n",
      "memory usage: 4.6+ KB\n"
     ]
    }
   ],
   "source": [
    "data1.info()"
   ]
  },
  {
   "cell_type": "markdown",
   "id": "4d6cbbb0",
   "metadata": {},
   "source": [
    "# 2.\tSplit your dataset into 48 entries for training, 12 entries for testing and 5 entries for validation. "
   ]
  },
  {
   "cell_type": "code",
   "execution_count": 6,
   "id": "5a232844",
   "metadata": {},
   "outputs": [],
   "source": [
    "X=data1[['Day','Sleep Hour', 'Exercise Hour', 'Study Hour', 'StudyDS Hour', 'Work Hour']]\n",
    "y=data1[['End of the day Feeling (0 to 10)']]"
   ]
  },
  {
   "cell_type": "code",
   "execution_count": 18,
   "id": "a3e3135a",
   "metadata": {},
   "outputs": [
    {
     "data": {
      "text/html": [
       "<div>\n",
       "<style scoped>\n",
       "    .dataframe tbody tr th:only-of-type {\n",
       "        vertical-align: middle;\n",
       "    }\n",
       "\n",
       "    .dataframe tbody tr th {\n",
       "        vertical-align: top;\n",
       "    }\n",
       "\n",
       "    .dataframe thead th {\n",
       "        text-align: right;\n",
       "    }\n",
       "</style>\n",
       "<table border=\"1\" class=\"dataframe\">\n",
       "  <thead>\n",
       "    <tr style=\"text-align: right;\">\n",
       "      <th></th>\n",
       "      <th>Sleep Hour</th>\n",
       "      <th>Exercise Hour</th>\n",
       "      <th>Study Hour</th>\n",
       "      <th>StudyDS Hour</th>\n",
       "      <th>Work Hour</th>\n",
       "      <th>Day_Monday</th>\n",
       "      <th>Day_Saturday</th>\n",
       "      <th>Day_Sunday</th>\n",
       "      <th>Day_Thursday</th>\n",
       "      <th>Day_Tuesday</th>\n",
       "      <th>Day_Wednesday</th>\n",
       "    </tr>\n",
       "  </thead>\n",
       "  <tbody>\n",
       "    <tr>\n",
       "      <th>0</th>\n",
       "      <td>8</td>\n",
       "      <td>2</td>\n",
       "      <td>3</td>\n",
       "      <td>2</td>\n",
       "      <td>2</td>\n",
       "      <td>0</td>\n",
       "      <td>0</td>\n",
       "      <td>0</td>\n",
       "      <td>0</td>\n",
       "      <td>0</td>\n",
       "      <td>0</td>\n",
       "    </tr>\n",
       "    <tr>\n",
       "      <th>1</th>\n",
       "      <td>5</td>\n",
       "      <td>2</td>\n",
       "      <td>2</td>\n",
       "      <td>0</td>\n",
       "      <td>0</td>\n",
       "      <td>0</td>\n",
       "      <td>1</td>\n",
       "      <td>0</td>\n",
       "      <td>0</td>\n",
       "      <td>0</td>\n",
       "      <td>0</td>\n",
       "    </tr>\n",
       "    <tr>\n",
       "      <th>2</th>\n",
       "      <td>6</td>\n",
       "      <td>0</td>\n",
       "      <td>0</td>\n",
       "      <td>0</td>\n",
       "      <td>0</td>\n",
       "      <td>0</td>\n",
       "      <td>0</td>\n",
       "      <td>1</td>\n",
       "      <td>0</td>\n",
       "      <td>0</td>\n",
       "      <td>0</td>\n",
       "    </tr>\n",
       "    <tr>\n",
       "      <th>3</th>\n",
       "      <td>8</td>\n",
       "      <td>2</td>\n",
       "      <td>4</td>\n",
       "      <td>1</td>\n",
       "      <td>2</td>\n",
       "      <td>1</td>\n",
       "      <td>0</td>\n",
       "      <td>0</td>\n",
       "      <td>0</td>\n",
       "      <td>0</td>\n",
       "      <td>0</td>\n",
       "    </tr>\n",
       "    <tr>\n",
       "      <th>4</th>\n",
       "      <td>8</td>\n",
       "      <td>2</td>\n",
       "      <td>1</td>\n",
       "      <td>0</td>\n",
       "      <td>0</td>\n",
       "      <td>0</td>\n",
       "      <td>0</td>\n",
       "      <td>0</td>\n",
       "      <td>0</td>\n",
       "      <td>1</td>\n",
       "      <td>0</td>\n",
       "    </tr>\n",
       "  </tbody>\n",
       "</table>\n",
       "</div>"
      ],
      "text/plain": [
       "   Sleep Hour  Exercise Hour  Study Hour  StudyDS Hour  Work Hour  Day_Monday  \\\n",
       "0           8              2           3             2          2           0   \n",
       "1           5              2           2             0          0           0   \n",
       "2           6              0           0             0          0           0   \n",
       "3           8              2           4             1          2           1   \n",
       "4           8              2           1             0          0           0   \n",
       "\n",
       "   Day_Saturday  Day_Sunday  Day_Thursday  Day_Tuesday  Day_Wednesday  \n",
       "0             0           0             0            0              0  \n",
       "1             1           0             0            0              0  \n",
       "2             0           1             0            0              0  \n",
       "3             0           0             0            0              0  \n",
       "4             0           0             0            1              0  "
      ]
     },
     "execution_count": 18,
     "metadata": {},
     "output_type": "execute_result"
    }
   ],
   "source": [
    "X= pd.get_dummies(data1[['Day','Sleep Hour', 'Exercise Hour', 'Study Hour', 'StudyDS Hour', 'Work Hour']],drop_first=True)\n",
    "X.head()"
   ]
  },
  {
   "cell_type": "code",
   "execution_count": 8,
   "id": "11975b4a",
   "metadata": {},
   "outputs": [],
   "source": [
    "from sklearn.model_selection import train_test_split\n",
    "X_train,X_test,y_train,y_test=train_test_split(X,y,test_size=1/3,random_state=0)"
   ]
  },
  {
   "cell_type": "code",
   "execution_count": 9,
   "id": "364438f4",
   "metadata": {},
   "outputs": [
    {
     "data": {
      "text/plain": [
       "LinearRegression()"
      ]
     },
     "execution_count": 9,
     "metadata": {},
     "output_type": "execute_result"
    }
   ],
   "source": [
    "from sklearn.linear_model import LinearRegression\n",
    "regressor=LinearRegression()\n",
    "regressor.fit(X_train,y_train)"
   ]
  },
  {
   "cell_type": "code",
   "execution_count": 10,
   "id": "8466887f",
   "metadata": {},
   "outputs": [
    {
     "name": "stdout",
     "output_type": "stream",
     "text": [
      "Coefficient [[-0.29115734 -1.16355144  0.3234443   0.70085488  0.1739331 ]]\n"
     ]
    }
   ],
   "source": [
    "print(\"Coefficient\", regressor.coef_)"
   ]
  },
  {
   "cell_type": "code",
   "execution_count": 11,
   "id": "0bccc2a4",
   "metadata": {},
   "outputs": [
    {
     "name": "stdout",
     "output_type": "stream",
     "text": [
      "intercept [10.0620003]\n"
     ]
    }
   ],
   "source": [
    "print(\"intercept\",regressor.intercept_)"
   ]
  },
  {
   "cell_type": "code",
   "execution_count": 12,
   "id": "67a1fdb5",
   "metadata": {},
   "outputs": [],
   "source": [
    "y_pred=regressor.predict(X_test)"
   ]
  },
  {
   "cell_type": "markdown",
   "id": "07f9904c",
   "metadata": {},
   "source": [
    "# 8 hours of sleep, 2 hours of exercise, 4 study hours, 1 Study Ds hours, 0 work hours"
   ]
  },
  {
   "cell_type": "code",
   "execution_count": 13,
   "id": "9be4e9e0",
   "metadata": {},
   "outputs": [
    {
     "name": "stderr",
     "output_type": "stream",
     "text": [
      "C:\\Users\\hayde\\anaconda3\\lib\\site-packages\\sklearn\\base.py:450: UserWarning: X does not have valid feature names, but LinearRegression was fitted with feature names\n",
      "  warnings.warn(\n"
     ]
    },
    {
     "data": {
      "text/plain": [
       "array([[7.40027077]])"
      ]
     },
     "execution_count": 13,
     "metadata": {},
     "output_type": "execute_result"
    }
   ],
   "source": [
    "regressor.predict([[8,2,4,1,0]])"
   ]
  },
  {
   "cell_type": "markdown",
   "id": "2b344d9c",
   "metadata": {},
   "source": [
    "# 7 hours of sleep, 0 hours of exercise, 2 study hours, 1 Study Ds hours, 2 work hours"
   ]
  },
  {
   "cell_type": "code",
   "execution_count": 14,
   "id": "3aa35bf4",
   "metadata": {},
   "outputs": [
    {
     "name": "stderr",
     "output_type": "stream",
     "text": [
      "C:\\Users\\hayde\\anaconda3\\lib\\site-packages\\sklearn\\base.py:450: UserWarning: X does not have valid feature names, but LinearRegression was fitted with feature names\n",
      "  warnings.warn(\n"
     ]
    },
    {
     "data": {
      "text/plain": [
       "array([[9.71950858]])"
      ]
     },
     "execution_count": 14,
     "metadata": {},
     "output_type": "execute_result"
    }
   ],
   "source": [
    "regressor.predict([[7,0,2,1,2]])"
   ]
  },
  {
   "cell_type": "markdown",
   "id": "7a31f1f5",
   "metadata": {},
   "source": [
    "# 6 hours of sleep, 4 hours of exercise, 0 study hours, 0 Study Ds hours, 2 work hours"
   ]
  },
  {
   "cell_type": "code",
   "execution_count": 15,
   "id": "4ab00d51",
   "metadata": {},
   "outputs": [
    {
     "name": "stderr",
     "output_type": "stream",
     "text": [
      "C:\\Users\\hayde\\anaconda3\\lib\\site-packages\\sklearn\\base.py:450: UserWarning: X does not have valid feature names, but LinearRegression was fitted with feature names\n",
      "  warnings.warn(\n"
     ]
    },
    {
     "data": {
      "text/plain": [
       "array([[4.00871666]])"
      ]
     },
     "execution_count": 15,
     "metadata": {},
     "output_type": "execute_result"
    }
   ],
   "source": [
    "regressor.predict([[6,4,0,0,2]])"
   ]
  },
  {
   "cell_type": "markdown",
   "id": "cb3c427b",
   "metadata": {},
   "source": [
    "# 5 hours of sleep, 2 hours of exercise, 2 study hours, 2 Study Ds hours, 2 work hours"
   ]
  },
  {
   "cell_type": "code",
   "execution_count": 16,
   "id": "1ae2a3a6",
   "metadata": {},
   "outputs": [
    {
     "name": "stderr",
     "output_type": "stream",
     "text": [
      "C:\\Users\\hayde\\anaconda3\\lib\\site-packages\\sklearn\\base.py:450: UserWarning: X does not have valid feature names, but LinearRegression was fitted with feature names\n",
      "  warnings.warn(\n"
     ]
    },
    {
     "data": {
      "text/plain": [
       "array([[8.67557526]])"
      ]
     },
     "execution_count": 16,
     "metadata": {},
     "output_type": "execute_result"
    }
   ],
   "source": [
    "regressor.predict([[5,2,2,2,2]])"
   ]
  },
  {
   "cell_type": "markdown",
   "id": "df40ea82",
   "metadata": {},
   "source": [
    "# 6 hours of sleep, 4 hours of exercise, 2 study hours, 1 Study Ds hours, 2 work hours"
   ]
  },
  {
   "cell_type": "code",
   "execution_count": 17,
   "id": "cd1a3fcf",
   "metadata": {},
   "outputs": [
    {
     "name": "stderr",
     "output_type": "stream",
     "text": [
      "C:\\Users\\hayde\\anaconda3\\lib\\site-packages\\sklearn\\base.py:450: UserWarning: X does not have valid feature names, but LinearRegression was fitted with feature names\n",
      "  warnings.warn(\n"
     ]
    },
    {
     "data": {
      "text/plain": [
       "array([[5.35646015]])"
      ]
     },
     "execution_count": 17,
     "metadata": {},
     "output_type": "execute_result"
    }
   ],
   "source": [
    "regressor.predict([[6,4,2,1,2]])"
   ]
  },
  {
   "cell_type": "code",
   "execution_count": 19,
   "id": "ff8ed407",
   "metadata": {},
   "outputs": [
    {
     "name": "stdout",
     "output_type": "stream",
     "text": [
      "r2_score -0.37804378788553694\n"
     ]
    }
   ],
   "source": [
    "from sklearn.metrics import r2_score\n",
    "print('r2_score',r2_score(y_test,y_pred))"
   ]
  },
  {
   "cell_type": "code",
   "execution_count": null,
   "id": "7acc4c23",
   "metadata": {},
   "outputs": [],
   "source": []
  },
  {
   "cell_type": "code",
   "execution_count": null,
   "id": "5a3595e2",
   "metadata": {},
   "outputs": [],
   "source": []
  }
 ],
 "metadata": {
  "kernelspec": {
   "display_name": "Python 3",
   "language": "python",
   "name": "python3"
  },
  "language_info": {
   "codemirror_mode": {
    "name": "ipython",
    "version": 3
   },
   "file_extension": ".py",
   "mimetype": "text/x-python",
   "name": "python",
   "nbconvert_exporter": "python",
   "pygments_lexer": "ipython3",
   "version": "3.8.8"
  }
 },
 "nbformat": 4,
 "nbformat_minor": 5
}
